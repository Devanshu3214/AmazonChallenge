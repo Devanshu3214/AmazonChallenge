{
  "nbformat": 4,
  "nbformat_minor": 0,
  "metadata": {
    "colab": {
      "provenance": []
    },
    "kernelspec": {
      "name": "python3",
      "display_name": "Python 3"
    },
    "language_info": {
      "name": "python"
    }
  },
  "cells": [
    {
      "cell_type": "code",
      "execution_count": 1,
      "metadata": {
        "id": "Dr5-N0dp3GeG"
      },
      "outputs": [],
      "source": [
        "import pandas as pd\n",
        "import logging\n",
        "\n",
        "# Set up logging to capture errors\n",
        "logging.basicConfig(filename='/path_to_log_folder/reindex_errors.log',\n",
        "                    level=logging.ERROR,\n",
        "                    format='%(asctime)s - %(levelname)s - %(message)s')\n",
        "\n",
        "def reindex_and_filter_csv_files(file_paths, output_file):\n",
        "    \"\"\"Load CSV files, filter out empty 'extracted_text', reindex, and combine them into a single DataFrame.\"\"\"\n",
        "    try:\n",
        "        # Load all CSV files into a list of DataFrames\n",
        "        dfs = [pd.read_csv(file) for file in file_paths]\n",
        "\n",
        "        # Concatenate all DataFrames into one\n",
        "        combined_df = pd.concat(dfs, ignore_index=True)\n",
        "\n",
        "        # Strip whitespace from 'extracted_text' and filter out rows where it's empty\n",
        "        combined_df['extracted_text'] = combined_df['extracted_text'].str.strip()\n",
        "        combined_df = combined_df[combined_df['extracted_text'].notna() & (combined_df['extracted_text'] != '')]\n",
        "\n",
        "        # Reset index to start from 0\n",
        "        combined_df.reset_index(drop=True, inplace=True)\n",
        "\n",
        "        # Save the reindexed and filtered DataFrame to a new CSV file\n",
        "        return combined_df\n",
        "\n",
        "    except Exception as e:\n",
        "        logging.error(f\"Error combining, filtering, and reindexing CSV files: {e}\")\n",
        "        return None\n",
        "\n",
        "# List of new CSV file paths\n",
        "new_csv_files = [\n",
        "    \"/content/updated_file_20000.csv\",\n",
        "    \"/content/updated_file_30000.csv\",\n",
        "    \"/content/updated_file_50001.csv\",\n",
        "    \"/content/updated_file_60001.csv\",\n",
        "    '/content/updated_file_10000 (1).csv'\n",
        "]\n",
        "\n",
        "\n"
      ]
    },
    {
      "cell_type": "code",
      "source": [
        "def check_csv_length(df):\n",
        "    \"\"\"Check the number of rows in a CSV file.\"\"\"\n",
        "    try:\n",
        "        num_rows = len(df)\n",
        "        print(f\"The CSV file has {num_rows} rows.\")\n",
        "    except Exception as e:\n",
        "        print(f\"Error reading the CSV file: {e}\")"
      ],
      "metadata": {
        "id": "hGyhHH2q8Gc2"
      },
      "execution_count": 6,
      "outputs": []
    },
    {
      "cell_type": "code",
      "source": [
        "# Path to save the reindexed combined file\n",
        "output_file_path = '/content/Train3.csv'\n",
        "\n",
        "# Combine, reindex, and save\n",
        "r=reindex_and_filter_csv_files(new_csv_files, output_file_path)\n",
        "\n"
      ],
      "metadata": {
        "colab": {
          "base_uri": "https://localhost:8080/"
        },
        "id": "KZs6pnnZ8Kyu",
        "outputId": "fe2d5c47-c6d9-4128-b80c-43466f4c084b"
      },
      "execution_count": 4,
      "outputs": [
        {
          "output_type": "stream",
          "name": "stderr",
          "text": [
            "<ipython-input-1-6020b142b825>:13: DtypeWarning: Columns (4) have mixed types. Specify dtype option on import or set low_memory=False.\n",
            "  dfs = [pd.read_csv(file) for file in file_paths]\n",
            "<ipython-input-1-6020b142b825>:13: DtypeWarning: Columns (4) have mixed types. Specify dtype option on import or set low_memory=False.\n",
            "  dfs = [pd.read_csv(file) for file in file_paths]\n",
            "<ipython-input-1-6020b142b825>:13: DtypeWarning: Columns (4) have mixed types. Specify dtype option on import or set low_memory=False.\n",
            "  dfs = [pd.read_csv(file) for file in file_paths]\n",
            "<ipython-input-1-6020b142b825>:13: DtypeWarning: Columns (4) have mixed types. Specify dtype option on import or set low_memory=False.\n",
            "  dfs = [pd.read_csv(file) for file in file_paths]\n",
            "<ipython-input-1-6020b142b825>:13: DtypeWarning: Columns (4) have mixed types. Specify dtype option on import or set low_memory=False.\n",
            "  dfs = [pd.read_csv(file) for file in file_paths]\n"
          ]
        }
      ]
    },
    {
      "cell_type": "code",
      "source": [
        "check_csv_length(r)\n"
      ],
      "metadata": {
        "colab": {
          "base_uri": "https://localhost:8080/"
        },
        "id": "UhDmW-2c9GAb",
        "outputId": "09815b0a-5681-427d-dd66-3c94780b430f"
      },
      "execution_count": 7,
      "outputs": [
        {
          "output_type": "stream",
          "name": "stdout",
          "text": [
            "The CSV file has 74745 rows.\n"
          ]
        }
      ]
    },
    {
      "cell_type": "code",
      "source": [
        "r.to_csv(output_file_path, index=False)"
      ],
      "metadata": {
        "id": "mHcuU7si8zlV"
      },
      "execution_count": 10,
      "outputs": []
    }
  ]
}